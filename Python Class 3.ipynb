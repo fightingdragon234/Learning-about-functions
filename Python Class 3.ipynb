{
 "cells": [
  {
   "cell_type": "code",
   "execution_count": 10,
   "metadata": {},
   "outputs": [
    {
     "name": "stdout",
     "output_type": "stream",
     "text": [
      "0\n",
      "1\n",
      "2\n",
      "3\n",
      "4\n",
      "5\n",
      "6\n",
      "7\n",
      "8\n",
      "9\n",
      "10\n",
      "11\n",
      "12\n",
      "13\n",
      "14\n",
      "15\n",
      "16\n",
      "17\n",
      "18\n",
      "19\n",
      "20\n"
     ]
    }
   ],
   "source": [
    "for i in range(0,21):\n",
    "    print(i)"
   ]
  },
  {
   "cell_type": "code",
   "execution_count": 11,
   "metadata": {},
   "outputs": [],
   "source": [
    "pop=[2,35,1,98,0,101]\n",
    "h=pop[0]\n",
    "for c in range(0,6):\n",
    "    if h>pop[c]:\n",
    "        h=pop[c]"
   ]
  },
  {
   "cell_type": "code",
   "execution_count": 12,
   "metadata": {},
   "outputs": [
    {
     "data": {
      "text/plain": [
       "0"
      ]
     },
     "execution_count": 12,
     "metadata": {},
     "output_type": "execute_result"
    }
   ],
   "source": [
    "h"
   ]
  },
  {
   "cell_type": "code",
   "execution_count": 13,
   "metadata": {},
   "outputs": [],
   "source": [
    "def function1(g):\n",
    "    b=g[0]\n",
    "    for v in range(0,len(g)):\n",
    "        if b>g[v]:\n",
    "            b=g[v]\n",
    "    return(b)"
   ]
  },
  {
   "cell_type": "code",
   "execution_count": 14,
   "metadata": {},
   "outputs": [
    {
     "data": {
      "text/plain": [
       "0"
      ]
     },
     "execution_count": 14,
     "metadata": {},
     "output_type": "execute_result"
    }
   ],
   "source": [
    "function1(pop)"
   ]
  },
  {
   "cell_type": "code",
   "execution_count": 15,
   "metadata": {},
   "outputs": [],
   "source": [
    "x=[47,16,27,45,13]\n",
    "def function2(x):\n",
    "    b=x[0]\n",
    "    d=5\n",
    "    f=0\n",
    "    while f<d:\n",
    "        if b>x[f]:\n",
    "            b=x[f]\n",
    "        f=f+1\n",
    "    return(b)\n"
   ]
  },
  {
   "cell_type": "code",
   "execution_count": 16,
   "metadata": {},
   "outputs": [
    {
     "data": {
      "text/plain": [
       "13"
      ]
     },
     "execution_count": 16,
     "metadata": {},
     "output_type": "execute_result"
    }
   ],
   "source": [
    "function2(x)\n"
   ]
  },
  {
   "cell_type": "code",
   "execution_count": 17,
   "metadata": {},
   "outputs": [],
   "source": [
    "fish=[47,16,27,45,13]\n",
    "def function3(fish):\n",
    "    minnow=fish[0]\n",
    "    shark=0\n",
    "    squid=5\n",
    "    while shark<squid:\n",
    "        if minnow<fish[shark]:\n",
    "            minnow=fish[shark]\n",
    "        shark=shark+1\n",
    "    return(minnow)"
   ]
  },
  {
   "cell_type": "code",
   "execution_count": 18,
   "metadata": {},
   "outputs": [
    {
     "data": {
      "text/plain": [
       "47"
      ]
     },
     "execution_count": 18,
     "metadata": {},
     "output_type": "execute_result"
    }
   ],
   "source": [
    "function3(fish)\n"
   ]
  },
  {
   "cell_type": "code",
   "execution_count": 19,
   "metadata": {},
   "outputs": [],
   "source": [
    "s=[47,16,27,45,13]\n",
    "y=s[1]\n",
    "t=s[0]\n",
    "l=6\n",
    "f=5\n",
    "c=2\n",
    "while f>c:\n",
    "    if y>t:\n",
    "        l=y\n",
    "        y=t\n",
    "        t=l \n",
    "    if t<s[c]:\n",
    "        y=t\n",
    "        t=s[c]\n",
    "    else:\n",
    "        if y<s[c]:\n",
    "            y=s[c]\n",
    "    c=c+1"
   ]
  },
  {
   "cell_type": "code",
   "execution_count": 20,
   "metadata": {
    "scrolled": true
   },
   "outputs": [
    {
     "data": {
      "text/plain": [
       "45"
      ]
     },
     "execution_count": 20,
     "metadata": {},
     "output_type": "execute_result"
    }
   ],
   "source": [
    "y"
   ]
  },
  {
   "cell_type": "code",
   "execution_count": 21,
   "metadata": {
    "scrolled": true
   },
   "outputs": [
    {
     "data": {
      "text/plain": [
       "47"
      ]
     },
     "execution_count": 21,
     "metadata": {},
     "output_type": "execute_result"
    }
   ],
   "source": [
    "t"
   ]
  },
  {
   "cell_type": "code",
   "execution_count": 22,
   "metadata": {},
   "outputs": [
    {
     "name": "stdout",
     "output_type": "stream",
     "text": [
      "36\n"
     ]
    }
   ],
   "source": [
    "u=0\n",
    "o=0\n",
    "while o<=20:\n",
    "    if o%2==0 and o%3==0:\n",
    "        u=u+o\n",
    "    o=o+1\n",
    "print(u)"
   ]
  },
  {
   "cell_type": "code",
   "execution_count": 23,
   "metadata": {},
   "outputs": [
    {
     "name": "stdout",
     "output_type": "stream",
     "text": [
      "36\n"
     ]
    }
   ],
   "source": [
    "t=0\n",
    "for i in range(20):\n",
    "    if i%2==0 and i%3==0:\n",
    "        t=t+i\n",
    "print(t)"
   ]
  },
  {
   "cell_type": "code",
   "execution_count": 24,
   "metadata": {},
   "outputs": [
    {
     "name": "stdout",
     "output_type": "stream",
     "text": [
      "yy = 78 56 34\n"
     ]
    }
   ],
   "source": [
    "f=[9,23,32,56,78,34]\n",
    "t_cup=9\n",
    "c_len=len(f)\n",
    "v_start=3\n",
    "p_cup=2\n",
    "d_cup=0\n",
    "yy = [f[0],f[1]]\n",
    "if yy[0]<yy[1]:\n",
    "    d=yy[0]\n",
    "    yy[0]=yy[1]\n",
    "    yy[1]=d\n",
    "a = yy[0]\n",
    "b = yy[1]\n",
    "n = f[2]\n",
    "q_cup=0\n",
    "\n",
    "if n>a:\n",
    "    q_cup=a\n",
    "    a=n\n",
    "    n=b\n",
    "    b=q_cup\n",
    "else:\n",
    "    if n>b:\n",
    "        q_cup=n\n",
    "        n=b\n",
    "        b=q_cup\n",
    "        \n",
    "while c_len>v_start:\n",
    "    \n",
    "    if f[v_start]>a:\n",
    "        p_cup=b\n",
    "        b=a\n",
    "        n=p_cup\n",
    "        a=f[v_start]\n",
    "    else:\n",
    "        if f[v_start]>b:\n",
    "            r=n\n",
    "            n=b\n",
    "            b=f[v_start]\n",
    "        else:\n",
    "            if f[v_start]>n:\n",
    "                n=f[v_start]\n",
    "    v_start=v_start+1\n",
    "print('yy =',a,b,n)"
   ]
  },
  {
   "cell_type": "code",
   "execution_count": 25,
   "metadata": {},
   "outputs": [],
   "source": [
    "\n",
    "y=[2,35,92,45]\n",
    "def bubble(y):\n",
    "    for i in range(len(y)):\n",
    "        g=i+1\n",
    "        while g<len(y):\n",
    "            if y[i]<y[g]:\n",
    "                e=y[i]\n",
    "                y[i]=y[g]\n",
    "                y[g]=e\n",
    "            g=g+1\n",
    "    return(y)"
   ]
  },
  {
   "cell_type": "code",
   "execution_count": 26,
   "metadata": {},
   "outputs": [
    {
     "data": {
      "text/plain": [
       "[92, 45, 35, 2]"
      ]
     },
     "execution_count": 26,
     "metadata": {},
     "output_type": "execute_result"
    }
   ],
   "source": [
    "bubble(y)"
   ]
  },
  {
   "cell_type": "code",
   "execution_count": 74,
   "metadata": {},
   "outputs": [],
   "source": [
    "y=[2,35,92,45]\n",
    "def bubble2(y):\n",
    "    for i in range(len(y)):\n",
    "        g=i+1\n",
    "        while g<len(y):\n",
    "            if y[i]>y[g]:\n",
    "                e=y[i]\n",
    "                y[i]=y[g]\n",
    "                y[g]=e\n",
    "            g=g+1\n",
    "    return(y)"
   ]
  },
  {
   "cell_type": "code",
   "execution_count": 75,
   "metadata": {},
   "outputs": [
    {
     "data": {
      "text/plain": [
       "[2, 35, 45, 92]"
      ]
     },
     "execution_count": 75,
     "metadata": {},
     "output_type": "execute_result"
    }
   ],
   "source": [
    "bubble2(y)"
   ]
  },
  {
   "cell_type": "code",
   "execution_count": 41,
   "metadata": {},
   "outputs": [],
   "source": [
    "x=[21,2,3,799,66,5,10,4400,999,999,999]\n",
    "def asertion(x):\n",
    "    r=1\n",
    "    j=r\n",
    "    while r<=len(x)-1:\n",
    "        f=x[j]\n",
    "        i=j-1\n",
    "        while i>=0:\n",
    "            if f<=x[i]:\n",
    "                x[j]=x[i]\n",
    "                j=j-1\n",
    "            i=i-1\n",
    "        x[j]=f\n",
    "        r=r+1\n",
    "    return(x)"
   ]
  },
  {
   "cell_type": "code",
   "execution_count": 42,
   "metadata": {},
   "outputs": [
    {
     "data": {
      "text/plain": [
       "[2, 21, 3, 799, 66, 5, 10, 4400, 999, 999, 999]"
      ]
     },
     "execution_count": 42,
     "metadata": {},
     "output_type": "execute_result"
    }
   ],
   "source": [
    "asertion(x)"
   ]
  },
  {
   "cell_type": "code",
   "execution_count": null,
   "metadata": {},
   "outputs": [],
   "source": []
  },
  {
   "cell_type": "code",
   "execution_count": null,
   "metadata": {},
   "outputs": [],
   "source": []
  },
  {
   "cell_type": "code",
   "execution_count": null,
   "metadata": {},
   "outputs": [],
   "source": []
  },
  {
   "cell_type": "code",
   "execution_count": null,
   "metadata": {},
   "outputs": [],
   "source": []
  },
  {
   "cell_type": "code",
   "execution_count": null,
   "metadata": {},
   "outputs": [],
   "source": []
  },
  {
   "cell_type": "code",
   "execution_count": null,
   "metadata": {},
   "outputs": [],
   "source": []
  },
  {
   "cell_type": "code",
   "execution_count": null,
   "metadata": {},
   "outputs": [],
   "source": []
  },
  {
   "cell_type": "code",
   "execution_count": null,
   "metadata": {},
   "outputs": [],
   "source": []
  },
  {
   "cell_type": "code",
   "execution_count": null,
   "metadata": {},
   "outputs": [],
   "source": []
  },
  {
   "cell_type": "code",
   "execution_count": null,
   "metadata": {},
   "outputs": [],
   "source": []
  }
 ],
 "metadata": {
  "kernelspec": {
   "display_name": "Python 3",
   "language": "python",
   "name": "python3"
  },
  "language_info": {
   "codemirror_mode": {
    "name": "ipython",
    "version": 3
   },
   "file_extension": ".py",
   "mimetype": "text/x-python",
   "name": "python",
   "nbconvert_exporter": "python",
   "pygments_lexer": "ipython3",
   "version": "3.7.4"
  }
 },
 "nbformat": 4,
 "nbformat_minor": 2
}
