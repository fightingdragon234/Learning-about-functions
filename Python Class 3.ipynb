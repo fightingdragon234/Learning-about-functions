{
 "cells": [
  {
   "cell_type": "code",
   "execution_count": 113,
   "metadata": {},
   "outputs": [
    {
     "name": "stdout",
     "output_type": "stream",
     "text": [
      "0\n",
      "1\n",
      "2\n",
      "3\n",
      "4\n",
      "5\n",
      "6\n",
      "7\n",
      "8\n",
      "9\n",
      "10\n",
      "11\n",
      "12\n",
      "13\n",
      "14\n",
      "15\n",
      "16\n",
      "17\n",
      "18\n",
      "19\n",
      "20\n"
     ]
    }
   ],
   "source": [
    "for i in range(0,21):\n",
    "    print(i)"
   ]
  },
  {
   "cell_type": "code",
   "execution_count": 114,
   "metadata": {},
   "outputs": [],
   "source": [
    "pop=[2,35,1,98,0,101]\n",
    "h=pop[0]\n",
    "for c in range(0,6):\n",
    "    if h>pop[c]:\n",
    "        h=pop[c]"
   ]
  },
  {
   "cell_type": "code",
   "execution_count": 115,
   "metadata": {},
   "outputs": [
    {
     "data": {
      "text/plain": [
       "0"
      ]
     },
     "execution_count": 115,
     "metadata": {},
     "output_type": "execute_result"
    }
   ],
   "source": [
    "h"
   ]
  },
  {
   "cell_type": "code",
   "execution_count": 116,
   "metadata": {},
   "outputs": [],
   "source": [
    "def function1(g):\n",
    "    b=g[0]\n",
    "    for v in range(0,len(g)):\n",
    "        if b>g[v]:\n",
    "            b=g[v]\n",
    "    return(b)"
   ]
  },
  {
   "cell_type": "code",
   "execution_count": 117,
   "metadata": {},
   "outputs": [
    {
     "data": {
      "text/plain": [
       "0"
      ]
     },
     "execution_count": 117,
     "metadata": {},
     "output_type": "execute_result"
    }
   ],
   "source": [
    "function1(pop)"
   ]
  },
  {
   "cell_type": "code",
   "execution_count": 118,
   "metadata": {},
   "outputs": [],
   "source": [
    "x=[47,16,27,45,13]\n",
    "def function2(x):\n",
    "    b=x[0]\n",
    "    d=5\n",
    "    f=0\n",
    "    while f<d:\n",
    "        if b>x[f]:\n",
    "            b=x[f]\n",
    "        f=f+1\n",
    "    return(b)\n"
   ]
  },
  {
   "cell_type": "code",
   "execution_count": 119,
   "metadata": {},
   "outputs": [
    {
     "data": {
      "text/plain": [
       "13"
      ]
     },
     "execution_count": 119,
     "metadata": {},
     "output_type": "execute_result"
    }
   ],
   "source": [
    "function2(x)\n"
   ]
  },
  {
   "cell_type": "code",
   "execution_count": 120,
   "metadata": {},
   "outputs": [],
   "source": [
    "fish=[47,16,27,45,13]\n",
    "def function3(fish):\n",
    "    minnow=fish[0]\n",
    "    shark=0\n",
    "    squid=5\n",
    "    while shark<squid:\n",
    "        if minnow<fish[shark]:\n",
    "            minnow=fish[shark]\n",
    "        shark=shark+1\n",
    "    return(minnow)"
   ]
  },
  {
   "cell_type": "code",
   "execution_count": 121,
   "metadata": {},
   "outputs": [
    {
     "data": {
      "text/plain": [
       "47"
      ]
     },
     "execution_count": 121,
     "metadata": {},
     "output_type": "execute_result"
    }
   ],
   "source": [
    "function3(fish)\n"
   ]
  },
  {
   "cell_type": "code",
   "execution_count": 122,
   "metadata": {},
   "outputs": [],
   "source": [
    "s=[47,16,27,45,13]\n",
    "y=s[1]\n",
    "t=s[0]\n",
    "l=6\n",
    "f=5\n",
    "c=2\n",
    "while f>c:\n",
    "    if y>t:\n",
    "        l=y\n",
    "        y=t\n",
    "        t=l \n",
    "    if t<s[c]:\n",
    "        y=t\n",
    "        t=s[c]\n",
    "    else:\n",
    "        if y<s[c]:\n",
    "            y=s[c]\n",
    "    c=c+1"
   ]
  },
  {
   "cell_type": "code",
   "execution_count": 123,
   "metadata": {
    "scrolled": true
   },
   "outputs": [
    {
     "data": {
      "text/plain": [
       "45"
      ]
     },
     "execution_count": 123,
     "metadata": {},
     "output_type": "execute_result"
    }
   ],
   "source": [
    "y"
   ]
  },
  {
   "cell_type": "code",
   "execution_count": 124,
   "metadata": {
    "scrolled": true
   },
   "outputs": [
    {
     "data": {
      "text/plain": [
       "47"
      ]
     },
     "execution_count": 124,
     "metadata": {},
     "output_type": "execute_result"
    }
   ],
   "source": [
    "t"
   ]
  },
  {
   "cell_type": "code",
   "execution_count": 125,
   "metadata": {},
   "outputs": [
    {
     "name": "stdout",
     "output_type": "stream",
     "text": [
      "36\n"
     ]
    }
   ],
   "source": [
    "u=0\n",
    "o=0\n",
    "while o<=20:\n",
    "    if o%2==0 and o%3==0:\n",
    "        u=u+o\n",
    "    o=o+1\n",
    "print(u)"
   ]
  },
  {
   "cell_type": "code",
   "execution_count": 126,
   "metadata": {},
   "outputs": [
    {
     "name": "stdout",
     "output_type": "stream",
     "text": [
      "36\n"
     ]
    }
   ],
   "source": [
    "t=0\n",
    "for i in range(20):\n",
    "    if i%2==0 and i%3==0:\n",
    "        t=t+i\n",
    "print(t)"
   ]
  },
  {
   "cell_type": "code",
   "execution_count": 127,
   "metadata": {},
   "outputs": [
    {
     "name": "stdout",
     "output_type": "stream",
     "text": [
      "yy = 78 56 34\n"
     ]
    }
   ],
   "source": [
    "f=[9,23,32,56,78,34]\n",
    "t_cup=9\n",
    "c_len=len(f)\n",
    "v_start=3\n",
    "p_cup=2\n",
    "d_cup=0\n",
    "yy = [f[0],f[1]]\n",
    "if yy[0]<yy[1]:\n",
    "    d=yy[0]\n",
    "    yy[0]=yy[1]\n",
    "    yy[1]=d\n",
    "a = yy[0]\n",
    "b = yy[1]\n",
    "n = f[2]\n",
    "q_cup=0\n",
    "\n",
    "if n>a:\n",
    "    q_cup=a\n",
    "    a=n\n",
    "    n=b\n",
    "    b=q_cup\n",
    "else:\n",
    "    if n>b:\n",
    "        q_cup=n\n",
    "        n=b\n",
    "        b=q_cup\n",
    "        \n",
    "while c_len>v_start:\n",
    "    \n",
    "    if f[v_start]>a:\n",
    "        p_cup=b\n",
    "        b=a\n",
    "        n=p_cup\n",
    "        a=f[v_start]\n",
    "    else:\n",
    "        if f[v_start]>b:\n",
    "            r=n\n",
    "            n=b\n",
    "            b=f[v_start]\n",
    "        else:\n",
    "            if f[v_start]>n:\n",
    "                n=f[v_start]\n",
    "    v_start=v_start+1\n",
    "print('yy =',a,b,n)"
   ]
  },
  {
   "cell_type": "code",
   "execution_count": 131,
   "metadata": {},
   "outputs": [],
   "source": [
    "\n",
    "y=[2,35,92,45]\n",
    "def bubble(y):\n",
    "    for i in range(len(y)):\n",
    "        g=i+1\n",
    "        while g<len(y):\n",
    "            if y[i]<y[g]:\n",
    "                e=y[i]\n",
    "                y[i]=y[g]\n",
    "                y[g]=e\n",
    "            g=g+1\n",
    "    return(y)"
   ]
  },
  {
   "cell_type": "code",
   "execution_count": 141,
   "metadata": {},
   "outputs": [
    {
     "data": {
      "text/plain": [
       "[13456, 5443, 2345, 23, 99, 12, 45, 65, 6767, 45, 1200, 11000]"
      ]
     },
     "execution_count": 141,
     "metadata": {},
     "output_type": "execute_result"
    }
   ],
   "source": [
    "bubble([6767,5443,2345,23,99,12,45,65,11000,45,1200,13456])"
   ]
  },
  {
   "cell_type": "code",
   "execution_count": null,
   "metadata": {},
   "outputs": [],
   "source": []
  },
  {
   "cell_type": "code",
   "execution_count": null,
   "metadata": {},
   "outputs": [],
   "source": []
  },
  {
   "cell_type": "code",
   "execution_count": null,
   "metadata": {},
   "outputs": [],
   "source": []
  },
  {
   "cell_type": "code",
   "execution_count": null,
   "metadata": {},
   "outputs": [],
   "source": []
  },
  {
   "cell_type": "code",
   "execution_count": null,
   "metadata": {},
   "outputs": [],
   "source": []
  },
  {
   "cell_type": "code",
   "execution_count": null,
   "metadata": {},
   "outputs": [],
   "source": []
  },
  {
   "cell_type": "code",
   "execution_count": null,
   "metadata": {},
   "outputs": [],
   "source": []
  },
  {
   "cell_type": "code",
   "execution_count": null,
   "metadata": {},
   "outputs": [],
   "source": []
  },
  {
   "cell_type": "code",
   "execution_count": null,
   "metadata": {},
   "outputs": [],
   "source": []
  },
  {
   "cell_type": "code",
   "execution_count": null,
   "metadata": {},
   "outputs": [],
   "source": []
  }
 ],
 "metadata": {
  "kernelspec": {
   "display_name": "Python 3",
   "language": "python",
   "name": "python3"
  },
  "language_info": {
   "codemirror_mode": {
    "name": "ipython",
    "version": 3
   },
   "file_extension": ".py",
   "mimetype": "text/x-python",
   "name": "python",
   "nbconvert_exporter": "python",
   "pygments_lexer": "ipython3",
   "version": "3.7.4"
  }
 },
 "nbformat": 4,
 "nbformat_minor": 2
}
